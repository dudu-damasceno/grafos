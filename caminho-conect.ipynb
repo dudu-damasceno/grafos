{
 "cells": [
  {
   "cell_type": "code",
   "execution_count": 2,
   "metadata": {},
   "outputs": [
    {
     "data": {
      "text/plain": [
       "False"
      ]
     },
     "execution_count": 2,
     "metadata": {},
     "output_type": "execute_result"
    }
   ],
   "source": [
    "#Atividade 4 - SMAC03\n",
    "#Luís Eduardo Damasceno - 2022010320\n",
    "\n",
    "import numpy as np\n",
    "\n",
    "\n",
    "def caminhoEuleriano(matriz):\n",
    "    matriz = np.array(matriz) \n",
    "    linhas, colunas = matriz.shape\n",
    "    total = 0\n",
    "\n",
    "    for i in range(linhas):\n",
    "        grau = 0\n",
    "        for j in range(colunas):\n",
    "            if matriz[i][j] == 1:\n",
    "                grau += 1\n",
    "        if grau % 2 != 0:\n",
    "            total += 1\n",
    "        \n",
    "    if total >= 1:\n",
    "        return False\n",
    "    else:\n",
    "        return True\n",
    "    \n",
    "caminhoEuleriano([[0, 2, 2, 1], [2, 0, 0, 1], [2, 0, 0, 1], [1, 1, 1, 0]])"
   ]
  }
 ],
 "metadata": {
  "kernelspec": {
   "display_name": "base",
   "language": "python",
   "name": "python3"
  },
  "language_info": {
   "codemirror_mode": {
    "name": "ipython",
    "version": 3
   },
   "file_extension": ".py",
   "mimetype": "text/x-python",
   "name": "python",
   "nbconvert_exporter": "python",
   "pygments_lexer": "ipython3",
   "version": "3.10.13"
  },
  "orig_nbformat": 4
 },
 "nbformat": 4,
 "nbformat_minor": 2
}
