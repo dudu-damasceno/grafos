{
 "cells": [
  {
   "cell_type": "code",
   "execution_count": 13,
   "metadata": {},
   "outputs": [
    {
     "data": {
      "text/plain": [
       "[0, 2, 4, 1, 5, 6, 3]"
      ]
     },
     "execution_count": 13,
     "metadata": {},
     "output_type": "execute_result"
    }
   ],
   "source": [
    "def BFS(listaAdj, v):\n",
    "    fila = []\n",
    "    analisado = []\n",
    "    fila.append(v)\n",
    "    analisado.append(v)\n",
    "    while len(fila) != 0: \n",
    "        atual = fila.pop(0)\n",
    "        for adj in range(len(listaAdj[atual])):\n",
    "            adicionar = listaAdj[atual][adj]\n",
    "            if adicionar not in analisado:\n",
    "                fila.append(adicionar)\n",
    "                analisado.append(adicionar)\n",
    "    \n",
    "    ponto = list(listaAdj.keys())\n",
    "    for i in range(len(ponto)):\n",
    "        if ponto[i] not in analisado:\n",
    "            analisado.append(ponto[i])\n",
    "\n",
    "    return analisado\n",
    "\n",
    "BFS({0: [2, 4], 1: [2, 4], 2: [0, 1, 4], 3: [], 4: [0, 1, 2, 5, 6], 5: [4, 6], 6: [4, 5]}, 0)\n",
    "    \n",
    " "
   ]
  }
 ],
 "metadata": {
  "kernelspec": {
   "display_name": "base",
   "language": "python",
   "name": "python3"
  },
  "language_info": {
   "codemirror_mode": {
    "name": "ipython",
    "version": 3
   },
   "file_extension": ".py",
   "mimetype": "text/x-python",
   "name": "python",
   "nbconvert_exporter": "python",
   "pygments_lexer": "ipython3",
   "version": "3.10.13"
  },
  "orig_nbformat": 4
 },
 "nbformat": 4,
 "nbformat_minor": 2
}
