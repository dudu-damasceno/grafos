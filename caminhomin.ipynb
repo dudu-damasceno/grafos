{
 "cells": [
  {
   "cell_type": "code",
   "execution_count": null,
   "metadata": {},
   "outputs": [],
   "source": [
    "def Dijkstra(matriz, Vorigem, Vdestino):\n",
    "    custo= []\n",
    "    custo[Vorigem]= 0\n",
    "    rota= []\n",
    "    rota[0]= Vorigem\n",
    "    for i in range(1, len(matriz)):\n",
    "        custo[i]= 9999\n",
    "        rota[i]= 0\n",
    "    abertos = []\n",
    "    fechados = []\n",
    "    atual = Vorigem\n",
    "    for i in range(1, len(matriz)):\n",
    "        abertos.append()\n",
    "    while atual != Vdestino:\n",
    "        for vizinho in range(len(matriz)):\n",
    "            if matriz[atual][vizinho] > 0 and not fechados[vizinho]:\n",
    "                if custo[vizinho] > custo[atual] + matriz[atual][vizinho]:\n",
    "                    custo[vizinho] = custo[atual] + matriz[atual][vizinho]\n",
    "                    rota[vizinho] = atual\n",
    "    print\n",
    "\n",
    "\n",
    "\n",
    "def bellmanFord(matriz, vOrigem, vDestino):\n",
    "    n = len(matriz)\n",
    "    custo = [float('inf')] * n\n",
    "    rota = [-1] * n\n",
    "    custo[vOrigem] = 0\n",
    "\n",
    "    for i in range(n):\n",
    "        for j in range(n):\n",
    "            if matriz[i][j] > 0:\n",
    "                if custo[j] > custo[i] + matriz[i][j]:\n",
    "                    custo[j] = custo[i] + matriz[i][j]\n",
    "                    rota[j] = i\n",
    "\n",
    "    rota_atual = vDestino\n",
    "    caminho = []\n",
    "    while rota_atual != -1:\n",
    "        caminho.append(rota_atual)\n",
    "        rota_atual = rota[rota_atual]\n",
    "\n",
    "    caminho.reverse()\n",
    "\n",
    "    print(caminho, custo[vDestino])\n"
   ]
  }
 ],
 "metadata": {
  "kernelspec": {
   "display_name": "base",
   "language": "python",
   "name": "python3"
  },
  "language_info": {
   "name": "python",
   "version": "3.10.13"
  }
 },
 "nbformat": 4,
 "nbformat_minor": 2
}
